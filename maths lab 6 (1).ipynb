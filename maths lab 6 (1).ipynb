{
 "cells": [
  {
   "cell_type": "code",
   "execution_count": null,
   "id": "8ad117a7",
   "metadata": {},
   "outputs": [],
   "source": []
  },
  {
   "cell_type": "markdown",
   "id": "6b16ecdd",
   "metadata": {},
   "source": [
    "# ANGLE BETWEEN THE NORMAL"
   ]
  },
  {
   "cell_type": "markdown",
   "id": "1aef1777",
   "metadata": {},
   "source": [
    "# 1.  find the angle between  the normals to the surface xy=z^2 at the ponts (1,9,-3) and(2 ,-2,2)"
   ]
  },
  {
   "cell_type": "code",
   "execution_count": 4,
   "id": "1487d76e",
   "metadata": {},
   "outputs": [
    {
     "name": "stdout",
     "output_type": "stream",
     "text": [
      "Gradient of the function F IS : [y, x, -2*z]\n",
      "Gradient of the function F at (1,9,-3) is [9, 1, 6]\n",
      "normal of F at(1,9,-3 )is  [0.828517156108491 0.0920574617898323 0.552344770738994]\n",
      "Gradient of the function F at (2,-2,2) is [-2, 2, -4]\n",
      "normal of F at(2,-2,2 )is  [-0.408248290463863 0.408248290463863 -0.816496580927726]\n",
      "the ANGLE BETWEEN THE NORMALS N1 AND N2 is  -0.751646028002829\n"
     ]
    }
   ],
   "source": [
    "from sympy import*\n",
    "import numpy as np\n",
    "import math\n",
    "x=Symbol('x')\n",
    "y=Symbol('y')\n",
    "z=Symbol('z')\n",
    "F=x*y-z**2\n",
    "f1 =diff(F,x)\n",
    "f2=diff(F,y)\n",
    "f3=diff(F,z)\n",
    "G=np.array([f1,f2,f3])\n",
    "N=G.tolist()\n",
    "print(\"Gradient of the function F IS :\",N)\n",
    "a=N[0]\n",
    "b=N[1]\n",
    "c=N[2]\n",
    "a=a.subs({x:1,y:9,z:-3})\n",
    "b=b.subs({x:1,y:9,z:-3})\n",
    "c=c.subs({x:1,y:9,z:-3})\n",
    "grad=np.array([a,b,c])\n",
    "M=grad.tolist()\n",
    "print(\"Gradient of the function F at (1,9,-3) is\" ,M)\n",
    "N1 =grad/math.sqrt(a**2+b**2+c**2)\n",
    "\n",
    "print(\"normal of F at(1,9,-3 )is \",N1)\n",
    "d=N[0]\n",
    "e=N[1]\n",
    "f=N[2]\n",
    "d=d.subs({x:2,y:-2,z:2})\n",
    "e=e.subs({x:2,y:-2,z:2})\n",
    "f=f.subs({x:2,y:-2,z:2})\n",
    "grad2=np.array([d,e,f])\n",
    "M2=grad2.tolist()\n",
    "print(\"Gradient of the function F at (2,-2,2) is\" ,M2)\n",
    "N2 =grad2/math.sqrt(d**2+e**2+f**2)\n",
    "\n",
    "print(\"normal of F at(2,-2,2 )is \",N2)\n",
    "A=np.dot(N1,N2)\n",
    "print (\"the ANGLE BETWEEN THE NORMALS N1 AND N2 is \",A)"
   ]
  },
  {
   "cell_type": "markdown",
   "id": "12b7b6cd",
   "metadata": {},
   "source": [
    "# 2. # find the angle between the normals to the surface x^2y^2=z^3 at the ponts (4,1,2) and(3 ,3,-3)"
   ]
  },
  {
   "cell_type": "code",
   "execution_count": 5,
   "id": "4aec5726",
   "metadata": {},
   "outputs": [
    {
     "name": "stdout",
     "output_type": "stream",
     "text": [
      "Gradient of the function F IS : [2*x*y**2, 2*x**2*y, -3*z**2]\n",
      "Gradient of the function F at (4,1,2) is [8, 32, -12]\n",
      "normal of F at(4,1,2 )is  [0.227921152919276 0.911684611677104 -0.341881729378914]\n",
      "Gradient of the function F at (3,3,-3) is [54, 54, -27]\n",
      "normal of F at(3,3,-3 )is  [0.666666666666667 0.666666666666667 -0.333333333333333]\n",
      "the ANGLE BETWEEN THE NORMALS N1 AND N2 is  0.873697752857224\n"
     ]
    }
   ],
   "source": [
    "from sympy import*\n",
    "import numpy as np\n",
    "import math\n",
    "x=Symbol('x')\n",
    "y=Symbol('y')\n",
    "z=Symbol('z')\n",
    "F=x**2*y**2-z**3\n",
    "f1 =diff(F,x)\n",
    "f2=diff(F,y)\n",
    "f3=diff(F,z)\n",
    "G=np.array([f1,f2,f3])\n",
    "N=G.tolist()\n",
    "print(\"Gradient of the function F IS :\",N)\n",
    "a=N[0]\n",
    "b=N[1]\n",
    "c=N[2]\n",
    "a=a.subs({x:4,y:1,z:2})\n",
    "b=b.subs({x:4,y:1,z:2})\n",
    "c=c.subs({x:4,y:1,z:2})\n",
    "grad=np.array([a,b,c])\n",
    "M=grad.tolist()\n",
    "print(\"Gradient of the function F at (4,1,2) is\" ,M)\n",
    "N1 =grad/math.sqrt(a**2+b**2+c**2)\n",
    "\n",
    "print(\"normal of F at(4,1,2 )is \",N1)\n",
    "d=N[0]\n",
    "e=N[1]\n",
    "f=N[2]\n",
    "d=d.subs({x:3,y:3,z:-3})\n",
    "e=e.subs({x:3,y:3,z:-3})\n",
    "f=f.subs({x:3,y:3,z:-3})\n",
    "grad2=np.array([d,e,f])\n",
    "M2=grad2.tolist()\n",
    "print(\"Gradient of the function F at (3,3,-3) is\" ,M2)\n",
    "N2 =grad2/math.sqrt(d**2+e**2+f**2)\n",
    "\n",
    "print(\"normal of F at(3,3,-3 )is \",N2)\n",
    "A=np.dot(N1,N2)\n",
    "print (\"the ANGLE BETWEEN THE NORMALS N1 AND N2 is \",A)"
   ]
  },
  {
   "cell_type": "markdown",
   "id": "6dfa9aff",
   "metadata": {},
   "source": [
    "# 3 # find the angle between the normals to the surface x^2y^2+xyz at the ponts (1,1,2) and(1 ,2,1)# "
   ]
  },
  {
   "cell_type": "code",
   "execution_count": 6,
   "id": "2779e785",
   "metadata": {},
   "outputs": [
    {
     "name": "stdout",
     "output_type": "stream",
     "text": [
      "Gradient of the function F IS : [2*x*y**2 + y*z, 2*x**2*y + x*z, x*y]\n",
      "Gradient of the function F at (1,1,2) is [4, 4, 1]\n",
      "normal of F at(1,1,2 )is  [0.696310623822791 0.696310623822791 0.174077655955698]\n",
      "Gradient of the function F at (1,2,1) is [10, 5, 2]\n",
      "normal of F at(1,2,1 )is  [0.880450906325624 0.440225453162812 0.176090181265125]\n",
      "the ANGLE BETWEEN THE NORMALS N1 AND N2 is  0.950254345734853\n"
     ]
    }
   ],
   "source": [
    "from sympy import*\n",
    "import numpy as np\n",
    "import math\n",
    "x=Symbol('x')\n",
    "y=Symbol('y')\n",
    "z=Symbol('z')\n",
    "F=x**2*y**2+x*y*z\n",
    "f1 =diff(F,x)\n",
    "f2=diff(F,y)\n",
    "f3=diff(F,z)\n",
    "G=np.array([f1,f2,f3])\n",
    "N=G.tolist()\n",
    "print(\"Gradient of the function F IS :\",N)\n",
    "a=N[0]\n",
    "b=N[1]\n",
    "c=N[2]\n",
    "a=a.subs({x:1,y:1,z:2})\n",
    "b=b.subs({x:1,y:1,z:2})\n",
    "c=c.subs({x:1,y:1,z:2})\n",
    "grad=np.array([a,b,c])\n",
    "M=grad.tolist()\n",
    "print(\"Gradient of the function F at (1,1,2) is\" ,M)\n",
    "N1 =grad/math.sqrt(a**2+b**2+c**2)\n",
    "\n",
    "print(\"normal of F at(1,1,2 )is \",N1)\n",
    "d=N[0]\n",
    "e=N[1]\n",
    "f=N[2]\n",
    "d=d.subs({x:1,y:2,z:1})\n",
    "e=e.subs({x:1,y:2,z:1})\n",
    "f=f.subs({x:1,y:2,z:1})\n",
    "grad2=np.array([d,e,f])\n",
    "M2=grad2.tolist()\n",
    "print(\"Gradient of the function F at (1,2,1) is\" ,M2)\n",
    "N2 =grad2/math.sqrt(d**2+e**2+f**2)\n",
    "\n",
    "print(\"normal of F at(1,2,1 )is \",N2)\n",
    "A=np.dot(N1,N2)\n",
    "print (\"the ANGLE BETWEEN THE NORMALS N1 AND N2 is \",A)"
   ]
  },
  {
   "cell_type": "code",
   "execution_count": null,
   "id": "ea69b089",
   "metadata": {},
   "outputs": [],
   "source": []
  }
 ],
 "metadata": {
  "kernelspec": {
   "display_name": "Python 3 (ipykernel)",
   "language": "python",
   "name": "python3"
  },
  "language_info": {
   "codemirror_mode": {
    "name": "ipython",
    "version": 3
   },
   "file_extension": ".py",
   "mimetype": "text/x-python",
   "name": "python",
   "nbconvert_exporter": "python",
   "pygments_lexer": "ipython3",
   "version": "3.9.12"
  }
 },
 "nbformat": 4,
 "nbformat_minor": 5
}
