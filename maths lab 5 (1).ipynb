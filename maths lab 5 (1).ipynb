{
 "cells": [
  {
   "cell_type": "markdown",
   "id": "9f4ec719",
   "metadata": {},
   "source": [
    "# 1. find the directional derivative of F=xy^2+yz^3 at the point(2,-1,-1) in the direction of 2i +j+2k."
   ]
  },
  {
   "cell_type": "code",
   "execution_count": 3,
   "id": "a9a022f0",
   "metadata": {},
   "outputs": [
    {
     "name": "stdout",
     "output_type": "stream",
     "text": [
      "Gradient of the function F IS : [y**2, 2*x*y + z**3, 3*y*z**2]\n",
      "Gradient of the function F at (2,-1,-1) is [1, -5, -3]\n",
      "the directional derivative is  -3.00000000000000\n"
     ]
    }
   ],
   "source": [
    "from sympy import*\n",
    "import numpy as np\n",
    "x=Symbol('x')\n",
    "y=Symbol('y')\n",
    "z=Symbol('z')\n",
    "F=x*y**2+y*z**3\n",
    "f1 =diff(F,x)\n",
    "f2=diff(F,y)\n",
    "f3=diff(F,z)\n",
    "G=np.array([f1,f2,f3])\n",
    "N=G.tolist()\n",
    "print(\"Gradient of the function F IS :\",N)\n",
    "a=N[0]\n",
    "b=N[1]\n",
    "c=N[2]\n",
    "a=a.subs({x:2,y:-1,z:-1})\n",
    "b=b.subs({x:2,y:-1,z:-1})\n",
    "c=c.subs({x:2,y:-1,z:-1})\n",
    "Grad=np.array([a,b,c])\n",
    "M=Grad.tolist()\n",
    "print(\"Gradient of the function F at (2,-1,-1) is\" ,M)\n",
    "v1=np.asarray([2,1,2])\n",
    "import math \n",
    "mv1 = math.sqrt(v1[0]**2+v1[1]**2+v1[2]**2)\n",
    "uv1=v1/mv1\n",
    "DD=np.dot(M,uv1)\n",
    "print (\"the directional derivative is \",DD)"
   ]
  },
  {
   "cell_type": "markdown",
   "id": "8eaa5b48",
   "metadata": {},
   "source": [
    "# # 2. find the directional derivative of F=xyz+xy^2z^3 at the point(1,2,-1) in the direction of i -j-3k."
   ]
  },
  {
   "cell_type": "code",
   "execution_count": null,
   "id": "3c144b86",
   "metadata": {},
   "outputs": [],
   "source": []
  },
  {
   "cell_type": "code",
   "execution_count": 4,
   "id": "ae718cf5",
   "metadata": {},
   "outputs": [
    {
     "name": "stdout",
     "output_type": "stream",
     "text": [
      "Gradient of the function F IS : [y**2*z**3 + y**2*z, 2*x*y*z**3 + 2*x*y*z, 3*x*y**2*z**2 + x*y**2]\n",
      "Gradient of the function F at (1,2,-1) is [-8, -8, 16]\n",
      "the directional derivative is  -14.4725445397327\n"
     ]
    }
   ],
   "source": [
    "from sympy import*\n",
    "import numpy as np\n",
    "x=Symbol('x')\n",
    "y=Symbol('y')\n",
    "z=Symbol('z')\n",
    "F=x*y**2*z+x*y**2*z**3\n",
    "f1 =diff(F,x)\n",
    "f2=diff(F,y)\n",
    "f3=diff(F,z)\n",
    "G=np.array([f1,f2,f3])\n",
    "N=G.tolist()\n",
    "print(\"Gradient of the function F IS :\",N)\n",
    "a=N[0]\n",
    "b=N[1]\n",
    "c=N[2]\n",
    "a=a.subs({x:1,y:2,z:-1})\n",
    "b=b.subs({x:1,y:2,z:-1})\n",
    "c=c.subs({x:1,y:2,z:-1})\n",
    "Grad=np.array([a,b,c])\n",
    "M=Grad.tolist()\n",
    "print(\"Gradient of the function F at (1,2,-1) is\" ,M)\n",
    "v1=np.asarray([1,-1,-3])\n",
    "import math \n",
    "mv1 = math.sqrt(v1[0]**2+v1[1]**2+v1[2]**2)\n",
    "uv1=v1/mv1\n",
    "DD=np.dot(M,uv1)\n",
    "print (\"the directional derivative is \",DD)"
   ]
  },
  {
   "cell_type": "markdown",
   "id": "b12f2960",
   "metadata": {},
   "source": [
    "# # 3. find the directional derivative of F=x^2-2y^2+4z^2 at the point(1,1,-1) in the direction of 2i +j-k."
   ]
  },
  {
   "cell_type": "code",
   "execution_count": 5,
   "id": "95256b54",
   "metadata": {},
   "outputs": [
    {
     "name": "stdout",
     "output_type": "stream",
     "text": [
      "Gradient of the function F IS : [2*x, -4*y, 8*z]\n",
      "Gradient of the function F at (1,1,-1) is [2, -4, -8]\n",
      "the directional derivative is  3.26598632371090\n"
     ]
    }
   ],
   "source": [
    "from sympy import*\n",
    "import numpy as np\n",
    "x=Symbol('x')\n",
    "y=Symbol('y')\n",
    "z=Symbol('z')\n",
    "F=x**2-2*y**2+4*z**2\n",
    "f1 =diff(F,x)\n",
    "f2=diff(F,y)\n",
    "f3=diff(F,z)\n",
    "G=np.array([f1,f2,f3])\n",
    "N=G.tolist()\n",
    "print(\"Gradient of the function F IS :\",N)\n",
    "a=N[0]\n",
    "b=N[1]\n",
    "c=N[2]\n",
    "a=a.subs({x:1,y:1,z:-1})\n",
    "b=b.subs({x:1,y:1,z:-1})\n",
    "c=c.subs({x:1,y:1,z:-1})\n",
    "Grad=np.array([a,b,c])\n",
    "M=Grad.tolist()\n",
    "print(\"Gradient of the function F at (1,1,-1) is\" ,M)\n",
    "v1=np.asarray([2,1,-1])\n",
    "import math \n",
    "mv1 = math.sqrt(v1[0]**2+v1[1]**2+v1[2]**2)\n",
    "uv1=v1/mv1\n",
    "DD=np.dot(M,uv1)\n",
    "print (\"the directional derivative is \",DD)"
   ]
  },
  {
   "cell_type": "markdown",
   "id": "9b744d71",
   "metadata": {},
   "source": [
    "# # # 4. find the directional derivative of F=x^4y+y^4z+4z^3xy at the point(1,1,-1) in the direction of i +2j-k."
   ]
  },
  {
   "cell_type": "code",
   "execution_count": 6,
   "id": "d3662167",
   "metadata": {},
   "outputs": [
    {
     "name": "stdout",
     "output_type": "stream",
     "text": [
      "Gradient of the function F IS : [4*x**3*y + 4*y*z**3, x**4 + 4*x*z**3 + 4*y**3*z, 12*x*y*z**2 + y**4]\n",
      "Gradient of the function F at (1,1,-1) is [0, -7, 13]\n",
      "the directional derivative is  -11.0227038425243\n"
     ]
    }
   ],
   "source": [
    "from sympy import*\n",
    "import numpy as np\n",
    "x=Symbol('x')\n",
    "y=Symbol('y')\n",
    "z=Symbol('z')\n",
    "F=x**4*y+y**4*z+4*z**3*x*y\n",
    "f1 =diff(F,x)\n",
    "f2=diff(F,y)\n",
    "f3=diff(F,z)\n",
    "G=np.array([f1,f2,f3])\n",
    "N=G.tolist()\n",
    "print(\"Gradient of the function F IS :\",N)\n",
    "a=N[0]\n",
    "b=N[1]\n",
    "c=N[2]\n",
    "a=a.subs({x:1,y:1,z:-1})\n",
    "b=b.subs({x:1,y:1,z:-1})\n",
    "c=c.subs({x:1,y:1,z:-1})\n",
    "Grad=np.array([a,b,c])\n",
    "M=Grad.tolist()\n",
    "print(\"Gradient of the function F at (1,1,-1) is\" ,M)\n",
    "v1=np.asarray([1,2,-1])\n",
    "import math \n",
    "mv1 = math.sqrt(v1[0]**2+v1[1]**2+v1[2]**2)\n",
    "uv1=v1/mv1\n",
    "DD=np.dot(M,uv1)\n",
    "print (\"the directional derivative is \",DD)"
   ]
  },
  {
   "cell_type": "markdown",
   "id": "43392dca",
   "metadata": {},
   "source": [
    "# # # 5. find the directional derivative of F=x^2yz-2y^2+4xz^2 at the point(1,-2,-1) in the direction of 2i -j-2k. "
   ]
  },
  {
   "cell_type": "code",
   "execution_count": 7,
   "id": "b10e0511",
   "metadata": {},
   "outputs": [
    {
     "name": "stdout",
     "output_type": "stream",
     "text": [
      "Gradient of the function F IS : [2*x*y*z + 4*z**2, x**2*z - 4*y, x**2*y + 8*x*z]\n",
      "Gradient of the function F at (1,-2,-1) is [8, 7, -10]\n",
      "the directional derivative is  9.66666666666667\n"
     ]
    }
   ],
   "source": [
    "from sympy import*\n",
    "import numpy as np\n",
    "x=Symbol('x')\n",
    "y=Symbol('y')\n",
    "z=Symbol('z')\n",
    "F=x**2*y*z-2*y**2+4*x*z**2\n",
    "f1 =diff(F,x)\n",
    "f2=diff(F,y)\n",
    "f3=diff(F,z)\n",
    "G=np.array([f1,f2,f3])\n",
    "N=G.tolist()\n",
    "print(\"Gradient of the function F IS :\",N)\n",
    "a=N[0]\n",
    "b=N[1]\n",
    "c=N[2]\n",
    "a=a.subs({x:1,y:-2,z:-1})\n",
    "b=b.subs({x:1,y:-2,z:-1})\n",
    "c=c.subs({x:1,y:-2,z:-1})\n",
    "Grad=np.array([a,b,c])\n",
    "M=Grad.tolist()\n",
    "print(\"Gradient of the function F at (1,-2,-1) is\" ,M)\n",
    "v1=np.asarray([2,-1,-2])\n",
    "import math \n",
    "mv1 = math.sqrt(v1[0]**2+v1[1]**2+v1[2]**2)\n",
    "uv1=v1/mv1\n",
    "DD=np.dot(M,uv1)\n",
    "print (\"the directional derivative is \",DD)\n"
   ]
  },
  {
   "cell_type": "code",
   "execution_count": 1,
   "id": "c04f24f5",
   "metadata": {},
   "outputs": [
    {
     "name": "stdout",
     "output_type": "stream",
     "text": [
      "Gradient of the function F IS : [y, x, -2*z]\n",
      "Gradient of the function F at (1,9,-3) is [9, 1, 6]\n"
     ]
    },
    {
     "ename": "NameError",
     "evalue": "name 'math' is not defined",
     "output_type": "error",
     "traceback": [
      "\u001b[1;31m---------------------------------------------------------------------------\u001b[0m",
      "\u001b[1;31mNameError\u001b[0m                                 Traceback (most recent call last)",
      "Input \u001b[1;32mIn [1]\u001b[0m, in \u001b[0;36m<cell line: 22>\u001b[1;34m()\u001b[0m\n\u001b[0;32m     20\u001b[0m M\u001b[38;5;241m=\u001b[39mgrad\u001b[38;5;241m.\u001b[39mtolist()\n\u001b[0;32m     21\u001b[0m \u001b[38;5;28mprint\u001b[39m(\u001b[38;5;124m\"\u001b[39m\u001b[38;5;124mGradient of the function F at (1,9,-3) is\u001b[39m\u001b[38;5;124m\"\u001b[39m ,M)\n\u001b[1;32m---> 22\u001b[0m N1 \u001b[38;5;241m=\u001b[39mgrad\u001b[38;5;241m/\u001b[39m\u001b[43mmath\u001b[49m\u001b[38;5;241m.\u001b[39msqrt(a\u001b[38;5;241m*\u001b[39m\u001b[38;5;241m*\u001b[39m\u001b[38;5;241m2\u001b[39m\u001b[38;5;241m+\u001b[39mb\u001b[38;5;241m*\u001b[39m\u001b[38;5;241m*\u001b[39m\u001b[38;5;241m2\u001b[39m\u001b[38;5;241m+\u001b[39mc\u001b[38;5;241m*\u001b[39m\u001b[38;5;241m*\u001b[39m\u001b[38;5;241m2\u001b[39m)\n\u001b[0;32m     24\u001b[0m \u001b[38;5;28mprint\u001b[39m(\u001b[38;5;124m\"\u001b[39m\u001b[38;5;124mnormal of F at(1,9,-3 )is \u001b[39m\u001b[38;5;124m\"\u001b[39m,N1)\n\u001b[0;32m     25\u001b[0m d\u001b[38;5;241m=\u001b[39mN[\u001b[38;5;241m0\u001b[39m]\n",
      "\u001b[1;31mNameError\u001b[0m: name 'math' is not defined"
     ]
    }
   ],
   "source": [
    "from sympy import*\n",
    "import numpy as np\n",
    "x=Symbol('x')\n",
    "y=Symbol('y')\n",
    "z=Symbol('z')\n",
    "F=x*y-z**2\n",
    "f1 =diff(F,x)\n",
    "f2=diff(F,y)\n",
    "f3=diff(F,z)\n",
    "G=np.array([f1,f2,f3])\n",
    "N=G.tolist()\n",
    "print(\"Gradient of the function F IS :\",N)\n",
    "a=N[0]\n",
    "b=N[1]\n",
    "c=N[2]\n",
    "a=a.subs({x:1,y:9,z:-3})\n",
    "b=b.subs({x:1,y:9,z:-3})\n",
    "c=c.subs({x:1,y:9,z:-3})\n",
    "grad=np.array([a,b,c])\n",
    "M=grad.tolist()\n",
    "print(\"Gradient of the function F at (1,9,-3) is\" ,M)\n",
    "N1 =grad/math.sqrt(a**2+b**2+c**2)\n",
    "\n",
    "print(\"normal of F at(1,9,-3 )is \",N1)\n",
    "d=N[0]\n",
    "e=N[1]"
   ]
  },
  {
   "cell_type": "code",
   "execution_count": null,
   "id": "9f494343",
   "metadata": {},
   "outputs": [],
   "source": []
  }
 ],
 "metadata": {
  "kernelspec": {
   "display_name": "Python 3 (ipykernel)",
   "language": "python",
   "name": "python3"
  },
  "language_info": {
   "codemirror_mode": {
    "name": "ipython",
    "version": 3
   },
   "file_extension": ".py",
   "mimetype": "text/x-python",
   "name": "python",
   "nbconvert_exporter": "python",
   "pygments_lexer": "ipython3",
   "version": "3.9.12"
  }
 },
 "nbformat": 4,
 "nbformat_minor": 5
}
