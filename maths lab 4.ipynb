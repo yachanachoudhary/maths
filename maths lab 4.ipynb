{
 "cells": [
  {
   "cell_type": "markdown",
   "id": "74bb21b7",
   "metadata": {},
   "source": [
    "# GRADIENT OF A SCALAR POINT FUNCTION\n"
   ]
  },
  {
   "cell_type": "markdown",
   "id": "c00412d4",
   "metadata": {},
   "source": [
    "# IF =X^4+Y^4+Z^4,EVALUATE GRAD F"
   ]
  },
  {
   "cell_type": "code",
   "execution_count": 1,
   "id": "90c344b6",
   "metadata": {},
   "outputs": [
    {
     "name": "stdout",
     "output_type": "stream",
     "text": [
      "Gradient of the function F IS : [4*x**3, 4*y**3, 4*z**3]\n"
     ]
    }
   ],
   "source": [
    "from sympy import*\n",
    "import numpy as np\n",
    "x=Symbol('x')\n",
    "y=Symbol('y')\n",
    "z=Symbol('z')\n",
    "F=x**4+y**4+z**4\n",
    "f1=diff(F,x)\n",
    "f2=diff(F,y)\n",
    "f3=diff(F,z)\n",
    "G=np.array([f1,f2,f3])\n",
    "listG=G.tolist()\n",
    "print(\"Gradient of the function F IS :\",listG)"
   ]
  },
  {
   "cell_type": "markdown",
   "id": "b516a8e2",
   "metadata": {},
   "source": [
    "# IF F =1/(X^2+Y^2+Z^2) FIND F AT (1,2,-3)."
   ]
  },
  {
   "cell_type": "code",
   "execution_count": 2,
   "id": "17a08931",
   "metadata": {},
   "outputs": [
    {
     "name": "stdout",
     "output_type": "stream",
     "text": [
      "Gradient of the function F IS : [-2*x/(x**2 + y**2 + z**2)**2, -2*y/(x**2 + y**2 + z**2)**2, -2*z/(x**2 + y**2 + z**2)**2]\n",
      "Gradient of the function F at (1,2,-3) is [-1/98, -1/49, 3/98]\n"
     ]
    }
   ],
   "source": [
    "from sympy import*\n",
    "import numpy as np\n",
    "x=Symbol('x')\n",
    "y=Symbol('y')\n",
    "z=Symbol('z')\n",
    "F=1/(x**2+y**2+z**2)\n",
    "f1=diff(F,x)\n",
    "f2=diff(F,y)\n",
    "f3=diff(F,z)\n",
    "G=np.array([f1,f2,f3])\n",
    "N=G.tolist()\n",
    "print(\"Gradient of the function F IS :\",N)\n",
    "a=N[0]\n",
    "b=N[1]\n",
    "c=N[2]\n",
    "a=a.subs({x:1,y:2,z:-3})\n",
    "b=b.subs({x:1,y:2,z:-3})\n",
    "c=c.subs({x:1,y:2,z:-3})\n",
    "Grad=np.array([a,b,c])\n",
    "M=Grad.tolist()\n",
    "print(\"Gradient of the function F at (1,2,-3) is\" ,M)"
   ]
  },
  {
   "cell_type": "markdown",
   "id": "b54100ad",
   "metadata": {},
   "source": [
    "# IF F =3*(X^2*Y^2*Z^2) FIND F AT (1,-2,-1).# "
   ]
  },
  {
   "cell_type": "code",
   "execution_count": 3,
   "id": "1a690974",
   "metadata": {},
   "outputs": [
    {
     "name": "stdout",
     "output_type": "stream",
     "text": [
      "Gradient of the function F IS : [6*x*y, 3*x**2 - 3*y**2*z**2, -2*y**3*z]\n",
      "Gradient of the function F at (1,2,-3) is [-12, -9, -16]\n"
     ]
    }
   ],
   "source": [
    "from sympy import*\n",
    "import numpy as np\n",
    "x=Symbol('x')\n",
    "y=Symbol('y')\n",
    "z=Symbol('z')\n",
    "F=3*x**2*y-y**3*z**2\n",
    "f1=diff(F,x)\n",
    "f2=diff(F,y)\n",
    "f3=diff(F,z)\n",
    "G=np.array([f1,f2,f3])\n",
    "N=G.tolist()\n",
    "print(\"Gradient of the function F IS :\",N)\n",
    "a=N[0]\n",
    "b=N[1]\n",
    "c=N[2]\n",
    "a=a.subs({x:1,y:-2,z:-1})\n",
    "b=b.subs({x:1,y:-2,z:-1})\n",
    "c=c.subs({x:1,y:-2,z:-1})\n",
    "Grad=np.array([a,b,c])\n",
    "M=Grad.tolist()\n",
    "print(\"Gradient of the function F at (1,2,-3) is\" ,M)"
   ]
  },
  {
   "cell_type": "markdown",
   "id": "485f9ab3",
   "metadata": {},
   "source": [
    "# # IF F =(X^3+Y^3+z^3-3xyz) FIND  GRAD F AT (1,2,1).# "
   ]
  },
  {
   "cell_type": "code",
   "execution_count": 4,
   "id": "4401ee57",
   "metadata": {},
   "outputs": [
    {
     "name": "stdout",
     "output_type": "stream",
     "text": [
      "Gradient of the function F IS : [3*x**2 - 3*y*z, -3*x*z + 3*y**2, -3*x*y + 3*z**2]\n",
      "Gradient of the function F at (1,2,-3) is [-3, 9, -3]\n"
     ]
    }
   ],
   "source": [
    "from sympy import*\n",
    "import numpy as np\n",
    "x=Symbol('x')\n",
    "y=Symbol('y')\n",
    "z=Symbol('z')\n",
    "F=x**3+y**3+z**3-3*x*y*z\n",
    "f1=diff(F,x)\n",
    "f2=diff(F,y)\n",
    "f3=diff(F,z)\n",
    "G=np.array([f1,f2,f3])\n",
    "N=G.tolist()\n",
    "print(\"Gradient of the function F IS :\",N)\n",
    "a=N[0]\n",
    "b=N[1]\n",
    "c=N[2]\n",
    "a=a.subs({x:1,y:2,z:1})\n",
    "b=b.subs({x:1,y:2,z:1})\n",
    "c=c.subs({x:1,y:2,z:1})\n",
    "Grad=np.array([a,b,c])\n",
    "M=Grad.tolist()\n",
    "print(\"Gradient of the function F at (1,2,-3) is\" ,M)"
   ]
  },
  {
   "cell_type": "markdown",
   "id": "46e0a8c0",
   "metadata": {},
   "source": [
    "# # # IF F =(X^2*y+Y^2*z+z^2*x) FIND  GRAD F AT (2,3,1).# "
   ]
  },
  {
   "cell_type": "code",
   "execution_count": 5,
   "id": "ba0994d8",
   "metadata": {},
   "outputs": [
    {
     "name": "stdout",
     "output_type": "stream",
     "text": [
      "Gradient of the function F IS : [6*x*y + 3*z**2, 3*x**2 + 6*y*z, 6*x*z + 3*y**2]\n",
      "Gradient of the function F at (1,2,-3) is [39, 30, 39]\n"
     ]
    }
   ],
   "source": [
    "from sympy import*\n",
    "import numpy as np\n",
    "x=Symbol('x')\n",
    "y=Symbol('y')\n",
    "z=Symbol('z')\n",
    "F=3*(x**2*y+y**2*z+z**2*x)\n",
    "f1=diff(F,x)\n",
    "f2=diff(F,y)\n",
    "f3=diff(F,z)\n",
    "G=np.array([f1,f2,f3])\n",
    "N=G.tolist()\n",
    "print(\"Gradient of the function F IS :\",N)\n",
    "a=N[0]\n",
    "b=N[1]\n",
    "c=N[2]\n",
    "a=a.subs({x:2,y:3,z:1})\n",
    "b=b.subs({x:2,y:3,z:1})\n",
    "c=c.subs({x:2,y:3,z:1})\n",
    "Grad=np.array([a,b,c])\n",
    "M=Grad.tolist()\n",
    "print(\"Gradient of the function F at (1,2,-3) is\" ,M)"
   ]
  },
  {
   "cell_type": "code",
   "execution_count": null,
   "id": "29d8f9b7",
   "metadata": {},
   "outputs": [],
   "source": []
  },
  {
   "cell_type": "code",
   "execution_count": null,
   "id": "f60b85ad",
   "metadata": {},
   "outputs": [],
   "source": []
  }
 ],
 "metadata": {
  "kernelspec": {
   "display_name": "Python 3 (ipykernel)",
   "language": "python",
   "name": "python3"
  },
  "language_info": {
   "codemirror_mode": {
    "name": "ipython",
    "version": 3
   },
   "file_extension": ".py",
   "mimetype": "text/x-python",
   "name": "python",
   "nbconvert_exporter": "python",
   "pygments_lexer": "ipython3",
   "version": "3.9.12"
  }
 },
 "nbformat": 4,
 "nbformat_minor": 5
}
