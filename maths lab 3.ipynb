{
 "cells": [
  {
   "cell_type": "markdown",
   "id": "23a5b090",
   "metadata": {},
   "source": [
    "# linear independence and linear dependence\n",
    "### show that the vectors (1,1,1),(2,-3,5)and(-2,1,4) of R3 are linearly independent"
   ]
  },
  {
   "cell_type": "code",
   "execution_count": 2,
   "id": "72020e4e",
   "metadata": {},
   "outputs": [
    {
     "name": "stdout",
     "output_type": "stream",
     "text": [
      "THE GIVEN VECTORS ARE LINEARLY  INDEPENDENT AS D IS -31 NON ZERO\n"
     ]
    }
   ],
   "source": [
    "from sympy import*\n",
    "A=Matrix([[1,1,-1],[2,-3,5],[-2,1,4]])\n",
    "D=A.det()\n",
    "if(D==0):\n",
    "    print(\"THE GIVEN VECTORS ARE LINEARLY DEPENDENT\")\n",
    "else:\n",
    "    print(\"THE GIVEN VECTORS ARE LINEARLY  INDEPENDENT AS D IS\",D,\"NON ZERO\")"
   ]
  },
  {
   "cell_type": "markdown",
   "id": "8eeb99a4",
   "metadata": {},
   "source": [
    "# EXAMINE WHETHER the vectors (1,-2,3),(5,6,-1)and(3,2,1) of R3 are linearly dependent"
   ]
  },
  {
   "cell_type": "code",
   "execution_count": 3,
   "id": "b1968ae4",
   "metadata": {},
   "outputs": [
    {
     "name": "stdout",
     "output_type": "stream",
     "text": [
      "THE GIVEN VECTORS ARE LINEARLY DEPENDENT AS D IS 0 IS ZERO\n"
     ]
    }
   ],
   "source": [
    "from sympy import*\n",
    "A=Matrix([ [1,-2,3],[5,6,-1],[3,2,1]])\n",
    "D=A.det()\n",
    "if(D==0):\n",
    "    print(\"THE GIVEN VECTORS ARE LINEARLY DEPENDENT AS D IS\",D,\"IS ZERO\")\n",
    "else:\n",
    "    print(\"THE GIVEN VECTORS ARE LINEARLY  INDEPENDENT AS D IS\",D,\"NON ZERO\")"
   ]
  },
  {
   "cell_type": "code",
   "execution_count": null,
   "id": "4ec95083",
   "metadata": {},
   "outputs": [],
   "source": []
  },
  {
   "cell_type": "code",
   "execution_count": null,
   "id": "20412be7",
   "metadata": {},
   "outputs": [],
   "source": []
  },
  {
   "cell_type": "markdown",
   "id": "10df4f65",
   "metadata": {},
   "source": [
    "# EXAMINE WHETHER the vectors (6,2,-1,2),(-1,3,5,1)and(-3,7,8,3)  are linearly dependent"
   ]
  },
  {
   "cell_type": "code",
   "execution_count": 5,
   "id": "1d2fedd0",
   "metadata": {},
   "outputs": [
    {
     "name": "stdout",
     "output_type": "stream",
     "text": [
      "rank of the matrix is 3\n",
      "Matrix([[1, 0, 0, 3/41], [0, 1, 0, 28/41], [0, 0, 1, -8/41]])\n",
      "THE GIVEN VECTORS ARE LINEARLY INDEPENDENT \n"
     ]
    }
   ],
   "source": [
    "from sympy import*\n",
    "r=3\n",
    "n=4\n",
    "A=Matrix([ [6,2,-1,2],[-1,3,5,1],[-3,7,8,3]])\n",
    "R=A.rank()\n",
    "print(\"rank of the matrix is\",R)\n",
    "RREF=A.rref()\n",
    "print(RREF[0])\n",
    "if(R==r):\n",
    "    print(\"THE GIVEN VECTORS ARE LINEARLY INDEPENDENT \")\n",
    "else:\n",
    "    print(\"THE GIVEN VECTORS ARE LINEARLY  DEPENDENT \")"
   ]
  },
  {
   "cell_type": "markdown",
   "id": "0dbb7020",
   "metadata": {},
   "source": [
    "# EXAMINE WHETHER the vectors (1,1,2,4),(2,-1,-5,2),(1,-1,-4,0) and (2,1,1,6)   are linearly dependent"
   ]
  },
  {
   "cell_type": "code",
   "execution_count": 6,
   "id": "2e8a4923",
   "metadata": {},
   "outputs": [
    {
     "name": "stdout",
     "output_type": "stream",
     "text": [
      "rank of the matrix is 2\n",
      "Matrix([[1, 0, -1, 2], [0, 1, 3, 2], [0, 0, 0, 0], [0, 0, 0, 0]])\n",
      "THE GIVEN VECTORS ARE LINEARLY  DEPENDENT \n"
     ]
    }
   ],
   "source": [
    "from sympy import*\n",
    "r=4\n",
    "n=4\n",
    "A=Matrix([ [1,1,2,4],[2,-1,-5,2],[1,-1,-4,0],[2,1,1,6]])\n",
    "R=A.rank()\n",
    "print(\"rank of the matrix is\",R)\n",
    "RREF=A.rref()\n",
    "print(RREF[0])\n",
    "if(R==r):\n",
    "    print(\"THE GIVEN VECTORS ARE LINEARLY INDEPENDENT \")\n",
    "else:\n",
    "    print(\"THE GIVEN VECTORS ARE LINEARLY  DEPENDENT \")"
   ]
  },
  {
   "cell_type": "code",
   "execution_count": null,
   "id": "38c6f33f",
   "metadata": {},
   "outputs": [],
   "source": []
  }
 ],
 "metadata": {
  "kernelspec": {
   "display_name": "Python 3 (ipykernel)",
   "language": "python",
   "name": "python3"
  },
  "language_info": {
   "codemirror_mode": {
    "name": "ipython",
    "version": 3
   },
   "file_extension": ".py",
   "mimetype": "text/x-python",
   "name": "python",
   "nbconvert_exporter": "python",
   "pygments_lexer": "ipython3",
   "version": "3.9.12"
  }
 },
 "nbformat": 4,
 "nbformat_minor": 5
}
