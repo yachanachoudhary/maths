{
 "cells": [
  {
   "cell_type": "markdown",
   "id": "56454512",
   "metadata": {},
   "source": [
    "# express the vector (3,7,-7) as a linear combination of the vectors(1,2,3) an(2,3,7)and(3,5,6)."
   ]
  },
  {
   "cell_type": "code",
   "execution_count": 3,
   "id": "f3ea2f45",
   "metadata": {},
   "outputs": [
    {
     "name": "stdout",
     "output_type": "stream",
     "text": [
      "[ 3  7 -4] = 2.0 [1 2 3] + -4.0 [2 3 7] + 3.0 [3 5 6]\n"
     ]
    }
   ],
   "source": [
    "#input\n",
    "from numpy import*\n",
    "target_vector=array([3,7,-4])\n",
    "v1=array([1,2,3])\n",
    "v2=array([2,3,7])\n",
    "v3=array([3,5,6])\n",
    "A=column_stack((v1,v2,v3))\n",
    "coefficients=linalg.solve(A,target_vector)\n",
    "a,b,c=coefficients.round()\n",
    "print(target_vector,\"=\",a,v1,\"+\",b,v2,\"+\",c,v3)"
   ]
  },
  {
   "cell_type": "markdown",
   "id": "62f762b8",
   "metadata": {},
   "source": [
    "# express the vector (1,7,-4) as a linear combination of the vector(1,-3,2),(2,-1,1) and (1,2,3)."
   ]
  },
  {
   "cell_type": "code",
   "execution_count": 4,
   "id": "23ad794f",
   "metadata": {},
   "outputs": [
    {
     "name": "stdout",
     "output_type": "stream",
     "text": [
      "[ 1  7 -4] = -3.0 [ 1 -3  2] + 2.0 [ 2 -1  1] + -0.0 [1 2 3]\n"
     ]
    }
   ],
   "source": [
    "#input\n",
    "from numpy import*\n",
    "target_vector=array([1,7,-4])\n",
    "v1=array([1,-3,2])\n",
    "v2=array([2,-1,1])\n",
    "v3=array([1,2,3])\n",
    "A=column_stack((v1,v2,v3))\n",
    "coefficients=linalg.solve(A,target_vector)\n",
    "a,b,c=coefficients.round()\n",
    "print(target_vector,\"=\",a,v1,\"+\",b,v2,\"+\",c,v3)"
   ]
  },
  {
   "cell_type": "markdown",
   "id": "3b31dbd4",
   "metadata": {},
   "source": [
    "# express the vector (4,-1,8) as a linear combination of the vector(1,-3,2),([1,2,-1) and (5,4,-2)."
   ]
  },
  {
   "cell_type": "code",
   "execution_count": 5,
   "id": "091251dd",
   "metadata": {},
   "outputs": [
    {
     "name": "stdout",
     "output_type": "stream",
     "text": [
      "[ 4 -1  8] = 15.0 [ 1 -3  2] + 44.0 [ 1  2 -1] + -11.0 [ 5  4 -2]\n"
     ]
    }
   ],
   "source": [
    "#input\n",
    "from numpy import*\n",
    "target_vector=array([4,-1,8])\n",
    "v1=array([1,-3,2])\n",
    "v2=array([1,2,-1])\n",
    "v3=array([5,4,-2])\n",
    "A=column_stack((v1,v2,v3))\n",
    "coefficients=linalg.solve(A,target_vector)\n",
    "a,b,c=coefficients.round()\n",
    "print(target_vector,\"=\",a,v1,\"+\",b,v2,\"+\",c,v3)"
   ]
  },
  {
   "cell_type": "markdown",
   "id": "dad95e0b",
   "metadata": {},
   "source": [
    "## express the vector (1,-2,5) as a linear combination of the vector(1,1,1),(1,2,3) and (2,-1,1)."
   ]
  },
  {
   "cell_type": "code",
   "execution_count": 1,
   "id": "30621254",
   "metadata": {},
   "outputs": [
    {
     "name": "stdout",
     "output_type": "stream",
     "text": [
      "[ 1 -2  5] = -6.0 [1 1 1] + 3.0 [1 2 3] + 2.0 [ 2 -1  1]\n"
     ]
    }
   ],
   "source": [
    "#input\n",
    "from numpy import*\n",
    "target_vector=array([1,-2,5])\n",
    "v1=array([1,1,1])\n",
    "v2=array([1,2,3])\n",
    "v3=array([2,-1,1])\n",
    "A=column_stack((v1,v2,v3))\n",
    "coefficients=linalg.solve(A,target_vector)\n",
    "a,b,c=coefficients.round()\n",
    "print(target_vector,\"=\",a,v1,\"+\",b,v2,\"+\",c,v3)"
   ]
  },
  {
   "cell_type": "markdown",
   "id": "71d55c78",
   "metadata": {},
   "source": [
    "# express the vector (3,-7,4) as a linear combination of the vector(1,3,1),(1,-5,3) and (2,-1,7)."
   ]
  },
  {
   "cell_type": "code",
   "execution_count": 7,
   "id": "5fc248cf",
   "metadata": {},
   "outputs": [
    {
     "name": "stdout",
     "output_type": "stream",
     "text": [
      "[ 3 -7  4] = 2.0 [1 3 1] + 3.0 [ 1 -5  3] + -1.0 [ 2 -1  7]\n"
     ]
    }
   ],
   "source": [
    "#input\n",
    "from numpy import*\n",
    "target_vector=array([3,-7,4])\n",
    "v1=array([1,3,1])\n",
    "v2=array([1,-5,3])\n",
    "v3=array([2,-1,7])\n",
    "A=column_stack((v1,v2,v3))\n",
    "coefficients=linalg.solve(A,target_vector)\n",
    "a,b,c=coefficients.round()\n",
    "print(target_vector,\"=\",a,v1,\"+\",b,v2,\"+\",c,v3)"
   ]
  },
  {
   "cell_type": "code",
   "execution_count": null,
   "id": "40b5748e",
   "metadata": {},
   "outputs": [],
   "source": []
  }
 ],
 "metadata": {
  "kernelspec": {
   "display_name": "Python 3 (ipykernel)",
   "language": "python",
   "name": "python3"
  },
  "language_info": {
   "codemirror_mode": {
    "name": "ipython",
    "version": 3
   },
   "file_extension": ".py",
   "mimetype": "text/x-python",
   "name": "python",
   "nbconvert_exporter": "python",
   "pygments_lexer": "ipython3",
   "version": "3.9.12"
  }
 },
 "nbformat": 4,
 "nbformat_minor": 5
}
