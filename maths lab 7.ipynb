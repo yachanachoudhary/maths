{
 "cells": [
  {
   "cell_type": "markdown",
   "id": "f7dc3d30",
   "metadata": {},
   "source": [
    "# FIND THE DIVERGENCE  OF F'=(3X^2)i+(5y^2x)j+(xz^3y)k at the point (1,2,3)\n"
   ]
  },
  {
   "cell_type": "code",
   "execution_count": 2,
   "id": "5c808228",
   "metadata": {},
   "outputs": [
    {
     "name": "stdout",
     "output_type": "stream",
     "text": [
      "Divergence of given function is 3*x*y*z**2 + 10*x*y + 6*x\n",
      "Divergence of given function at the point is 80\n"
     ]
    }
   ],
   "source": [
    "from sympy import*\n",
    "import numpy as np\n",
    "x=Symbol('x')\n",
    "y=Symbol('y')\n",
    "z=Symbol('z')\n",
    "f1=3*x**2\n",
    "f2=5*y**2*x\n",
    "f3=x*z**3*y\n",
    "F=diff(f1,x)+diff(f2,y)+diff(f3,z)\n",
    "print(\"Divergence of given function is\",F)\n",
    "D=F.subs([(x,1),(y,2),(z,3)])\n",
    "print(\"Divergence of given function at the point is\",D)"
   ]
  },
  {
   "cell_type": "markdown",
   "id": "3fad12a8",
   "metadata": {},
   "source": [
    "# FIND THE DIVERGENCE  OF F'=(x^2+2y^3-z)i+(x-y-z^2)j+(-x^2+y+2z^3)k at the point (3,2,-1)# "
   ]
  },
  {
   "cell_type": "code",
   "execution_count": 4,
   "id": "23e5b6f8",
   "metadata": {},
   "outputs": [
    {
     "name": "stdout",
     "output_type": "stream",
     "text": [
      "Divergence of given function is 2*x + 6*z**2 - 1\n",
      "Divergence of given function at the point is 11\n"
     ]
    }
   ],
   "source": [
    "from sympy import*\n",
    "import numpy as np\n",
    "x=Symbol('x')\n",
    "y=Symbol('y')\n",
    "z=Symbol('z')\n",
    "f1=x**2+2*y**3-z\n",
    "f2=x-y-z**2\n",
    "f3=-x**2+y+2*z**3\n",
    "F=diff(f1,x)+diff(f2,y)+diff(f3,z)\n",
    "print(\"Divergence of given function is\",F)\n",
    "D=F.subs([(x,3),(y,2),(z,-1)])\n",
    "print(\"Divergence of given function at the point is\",D)"
   ]
  },
  {
   "cell_type": "markdown",
   "id": "f20e2d4b",
   "metadata": {},
   "source": [
    "#  FIND THE DIVERGENCE  OF F'=(x^3z)i+(y^3x)j+(z^3y)k at the point (-2,3,4)# "
   ]
  },
  {
   "cell_type": "code",
   "execution_count": 6,
   "id": "2a3b6ae5",
   "metadata": {},
   "outputs": [
    {
     "name": "stdout",
     "output_type": "stream",
     "text": [
      "Divergence of given function is 3*x**2*z + 3*x*y**2 + 3*y*z**2\n",
      "Divergence of given function at the point is 138\n"
     ]
    }
   ],
   "source": [
    "from sympy import*\n",
    "import numpy as np\n",
    "x=Symbol('x')\n",
    "y=Symbol('y')\n",
    "z=Symbol('z')\n",
    "f1=x**3*z\n",
    "f2=y**3*x\n",
    "f3=z**3*y\n",
    "F=diff(f1,x)+diff(f2,y)+diff(f3,z)\n",
    "print(\"Divergence of given function is\",F)\n",
    "D=F.subs([(x,-2),(y,3),(z,4)])\n",
    "print(\"Divergence of given function at the point is\",D)"
   ]
  },
  {
   "cell_type": "markdown",
   "id": "0a124928",
   "metadata": {},
   "source": [
    "# FIND THE DIVERGENCE OF F'=(6xy+z^3)i+(3x^2-z)j+(3xz^2-y)k at the point (2,-1,3)#"
   ]
  },
  {
   "cell_type": "code",
   "execution_count": 7,
   "id": "2d76a2e0",
   "metadata": {},
   "outputs": [
    {
     "name": "stdout",
     "output_type": "stream",
     "text": [
      "Divergence of given function is 6*x*z + 6*y\n",
      "Divergence of given function at the point is 30\n"
     ]
    }
   ],
   "source": [
    "from sympy import*\n",
    "import numpy as np\n",
    "x=Symbol('x')\n",
    "y=Symbol('y')\n",
    "z=Symbol('z')\n",
    "f1=6*x*y+z**3\n",
    "f2=3*x**2-z\n",
    "f3=3*x*z**2-y\n",
    "F=diff(f1,x)+diff(f2,y)+diff(f3,z)\n",
    "print(\"Divergence of given function is\",F)\n",
    "D=F.subs([(x,2),(y,-1),(z,3)])\n",
    "print(\"Divergence of given function at the point is\",D)"
   ]
  },
  {
   "cell_type": "markdown",
   "id": "885891c4",
   "metadata": {},
   "source": [
    "# FIND THE DIVERGENCE OF F'=(x^2yz)i+(y^2zx)j+(z^2xy)k at the point (1,2,-3)#¶"
   ]
  },
  {
   "cell_type": "code",
   "execution_count": 8,
   "id": "b0c356c8",
   "metadata": {},
   "outputs": [
    {
     "name": "stdout",
     "output_type": "stream",
     "text": [
      "Divergence of given function is 6*x*y*z\n",
      "Divergence of given function at the point is -36\n"
     ]
    }
   ],
   "source": [
    "from sympy import*\n",
    "import numpy as np\n",
    "x=Symbol('x')\n",
    "y=Symbol('y')\n",
    "z=Symbol('z')\n",
    "f1=x**2*y*z\n",
    "f2=y**2*z*x\n",
    "f3=z**2*x*y\n",
    "F=diff(f1,x)+diff(f2,y)+diff(f3,z)\n",
    "print(\"Divergence of given function is\",F)\n",
    "D=F.subs([(x,1),(y,2),(z,-3)])\n",
    "print(\"Divergence of given function at the point is\",D)"
   ]
  },
  {
   "cell_type": "code",
   "execution_count": null,
   "id": "a94b2ac1",
   "metadata": {},
   "outputs": [],
   "source": []
  }
 ],
 "metadata": {
  "kernelspec": {
   "display_name": "Python 3 (ipykernel)",
   "language": "python",
   "name": "python3"
  },
  "language_info": {
   "codemirror_mode": {
    "name": "ipython",
    "version": 3
   },
   "file_extension": ".py",
   "mimetype": "text/x-python",
   "name": "python",
   "nbconvert_exporter": "python",
   "pygments_lexer": "ipython3",
   "version": "3.9.12"
  }
 },
 "nbformat": 4,
 "nbformat_minor": 5
}
