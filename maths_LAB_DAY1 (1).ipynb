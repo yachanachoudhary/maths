{
 "cells": [
  {
   "cell_type": "markdown",
   "id": "4e73665e",
   "metadata": {},
   "source": [
    "# [q1]  if a= i+2j+3k,b=2i+3j+4k,evaluate \n",
    "i)a+b\n",
    "ii)a-b\n",
    "iii)3a\n",
    "iv)5a+6b\n",
    "v)7a-8b\n",
    "vi)a.b\n",
    "vii)axb\n",
    " viii)[a]\n",
    " ix)unit vector of a\n",
    " "
   ]
  },
  {
   "cell_type": "code",
   "execution_count": 2,
   "id": "f4ee7ce6",
   "metadata": {},
   "outputs": [
    {
     "name": "stdout",
     "output_type": "stream",
     "text": [
      "[3 5 7]\n"
     ]
    }
   ],
   "source": [
    "import numpy as np\n",
    "v1=np.asarray([1,2,3])\n",
    "v2=np.asarray([2,3,4])\n",
    "sum=v1+v2\n",
    "print(sum)"
   ]
  },
  {
   "cell_type": "code",
   "execution_count": 2,
   "id": "08c631c1",
   "metadata": {},
   "outputs": [
    {
     "name": "stdout",
     "output_type": "stream",
     "text": [
      "[-1 -1 -1]\n"
     ]
    }
   ],
   "source": [
    "subtract=v1-v2\n",
    "print(subtract)"
   ]
  },
  {
   "cell_type": "code",
   "execution_count": 5,
   "id": "bfab6375",
   "metadata": {},
   "outputs": [
    {
     "name": "stdout",
     "output_type": "stream",
     "text": [
      "[3 6 9]\n"
     ]
    }
   ],
   "source": [
    "multi=3*v1\n",
    "print(multi)"
   ]
  },
  {
   "cell_type": "code",
   "execution_count": 8,
   "id": "5ca6c2c1",
   "metadata": {},
   "outputs": [
    {
     "name": "stdout",
     "output_type": "stream",
     "text": [
      "[17 28 39]\n"
     ]
    }
   ],
   "source": [
    "value1=(5*v1)+(6*v2)\n",
    "print(value1)"
   ]
  },
  {
   "cell_type": "code",
   "execution_count": 9,
   "id": "a7670544",
   "metadata": {},
   "outputs": [
    {
     "name": "stdout",
     "output_type": "stream",
     "text": [
      "[ -9 -10 -11]\n"
     ]
    }
   ],
   "source": [
    "value2=7*v1-8*v2\n",
    "print(value2)"
   ]
  },
  {
   "cell_type": "code",
   "execution_count": 10,
   "id": "ef8ca11f",
   "metadata": {},
   "outputs": [
    {
     "data": {
      "text/plain": [
       "20"
      ]
     },
     "execution_count": 10,
     "metadata": {},
     "output_type": "execute_result"
    }
   ],
   "source": [
    "np.dot(v1,v2)"
   ]
  },
  {
   "cell_type": "code",
   "execution_count": 11,
   "id": "b36c6730",
   "metadata": {},
   "outputs": [
    {
     "data": {
      "text/plain": [
       "array([-1,  2, -1])"
      ]
     },
     "execution_count": 11,
     "metadata": {},
     "output_type": "execute_result"
    }
   ],
   "source": [
    "np.cross(v1,v2)"
   ]
  },
  {
   "cell_type": "code",
   "execution_count": 14,
   "id": "c7a42c77",
   "metadata": {},
   "outputs": [
    {
     "name": "stdout",
     "output_type": "stream",
     "text": [
      "3.7416573867739413\n"
     ]
    }
   ],
   "source": [
    "import numpy as np\n",
    "v1=np.asarray([1,2,3])\n",
    "import math\n",
    "mv1=math.sqrt(v1[0]**2+v1[1]**2+v1[2]**2)\n",
    "print(mv1)"
   ]
  },
  {
   "cell_type": "code",
   "execution_count": 15,
   "id": "ea828d40",
   "metadata": {},
   "outputs": [
    {
     "name": "stdout",
     "output_type": "stream",
     "text": [
      "[0.26726124 0.53452248 0.80178373]\n"
     ]
    }
   ],
   "source": [
    "unitvect=v1/mv1\n",
    "print(unitvect)"
   ]
  },
  {
   "cell_type": "markdown",
   "id": "d556026f",
   "metadata": {},
   "source": [
    "# If underline a = 3i + 5j + 2k , b = 5i + 8j + 7k evaluate\n",
    "(i) a+b \n",
    "(ii)a-b\n",
    "(iii) 7a\n",
    "(iv) 4a + 7b\n",
    "(v)6a-2b \n",
    "(vi) a.b\n",
    "(vii) aXb\n",
    "(viii) |a|\n",
    "(ix) unit vector of a."
   ]
  },
  {
   "cell_type": "code",
   "execution_count": 3,
   "id": "14a66350",
   "metadata": {},
   "outputs": [
    {
     "ename": "NameError",
     "evalue": "name 'math' is not defined",
     "output_type": "error",
     "traceback": [
      "\u001b[1;31m---------------------------------------------------------------------------\u001b[0m",
      "\u001b[1;31mNameError\u001b[0m                                 Traceback (most recent call last)",
      "Input \u001b[1;32mIn [3]\u001b[0m, in \u001b[0;36m<cell line: 11>\u001b[1;34m()\u001b[0m\n\u001b[0;32m      7\u001b[0m value1\u001b[38;5;241m=\u001b[39m\u001b[38;5;241m4\u001b[39m\u001b[38;5;241m*\u001b[39mv1\u001b[38;5;241m+\u001b[39m\u001b[38;5;241m7\u001b[39m\u001b[38;5;241m*\u001b[39mv2\n\u001b[0;32m      8\u001b[0m value2\u001b[38;5;241m=\u001b[39m\u001b[38;5;241m6\u001b[39m\u001b[38;5;241m*\u001b[39mv1\u001b[38;5;241m-\u001b[39m\u001b[38;5;241m2\u001b[39m\u001b[38;5;241m*\u001b[39mv2\n\u001b[1;32m---> 11\u001b[0m mv1\u001b[38;5;241m=\u001b[39m\u001b[43mmath\u001b[49m\u001b[38;5;241m.\u001b[39msqrt(v1[\u001b[38;5;241m0\u001b[39m]\u001b[38;5;241m*\u001b[39m\u001b[38;5;241m*\u001b[39m\u001b[38;5;241m2\u001b[39m\u001b[38;5;241m+\u001b[39mv1[\u001b[38;5;241m1\u001b[39m]\u001b[38;5;241m*\u001b[39m\u001b[38;5;241m*\u001b[39m\u001b[38;5;241m2\u001b[39m\u001b[38;5;241m+\u001b[39mv1[\u001b[38;5;241m2\u001b[39m]\u001b[38;5;241m*\u001b[39m\u001b[38;5;241m*\u001b[39m\u001b[38;5;241m2\u001b[39m)\n\u001b[0;32m     12\u001b[0m unitvect\u001b[38;5;241m=\u001b[39mv1\u001b[38;5;241m/\u001b[39mmv1\n\u001b[0;32m     15\u001b[0m \u001b[38;5;28mprint\u001b[39m(\u001b[38;5;28msum\u001b[39m)\n",
      "\u001b[1;31mNameError\u001b[0m: name 'math' is not defined"
     ]
    }
   ],
   "source": [
    "import numpy as np\n",
    "v1=np.asarray([3,5,2])\n",
    "v2=np.asarray([5,8,7])\n",
    "sum=v1+v2\n",
    "subtract=v1-v2\n",
    "multi=7*v1\n",
    "value1=4*v1+7*v2\n",
    "value2=6*v1-2*v2\n",
    "\n",
    "\n",
    "mv1=math.sqrt(v1[0]**2+v1[1]**2+v1[2]**2)\n",
    "unitvect=v1/mv1\n",
    "\n",
    "\n",
    "print(sum)\n",
    "print(subtract)\n",
    "print(multi)\n",
    "print(value1)\n",
    "print(value2)\n",
    "print(mv1)\n",
    "print(unitvect)"
   ]
  },
  {
   "cell_type": "code",
   "execution_count": 21,
   "id": "300b93b0",
   "metadata": {},
   "outputs": [
    {
     "data": {
      "text/plain": [
       "69"
      ]
     },
     "execution_count": 21,
     "metadata": {},
     "output_type": "execute_result"
    }
   ],
   "source": [
    "np.dot(v1,v2)\n"
   ]
  },
  {
   "cell_type": "code",
   "execution_count": 20,
   "id": "2bfa397e",
   "metadata": {},
   "outputs": [
    {
     "data": {
      "text/plain": [
       "array([ 19, -11,  -1])"
      ]
     },
     "execution_count": 20,
     "metadata": {},
     "output_type": "execute_result"
    }
   ],
   "source": [
    "np.cross(v1,v2)"
   ]
  },
  {
   "cell_type": "markdown",
   "id": "1addce78",
   "metadata": {},
   "source": [
    "# 2. If underline a = 2i + 9j + 3k , b = 7i + 5j + 2k evaluate\n",
    "(i) a+b\n",
    "(ii)a-b\n",
    "(iii) 8a\n",
    "(iv) 3a + 9b\n",
    "(v)7a-2b \n",
    "(vi) a.b\n",
    "(vii) aXb\n",
    "(viii) | a |\n",
    "(ix) unit vector of a."
   ]
  },
  {
   "cell_type": "code",
   "execution_count": 22,
   "id": "945fe0f9",
   "metadata": {},
   "outputs": [
    {
     "name": "stdout",
     "output_type": "stream",
     "text": [
      "[ 9 14  5]\n",
      "[-5  4  1]\n",
      "[16 72 24]\n",
      "[69 72 27]\n",
      "[ 0 53 17]\n",
      "9.695359714832659\n",
      "[0.20628425 0.92827912 0.30942637]\n"
     ]
    }
   ],
   "source": [
    "import numpy as np\n",
    "v1=np.asarray([2,9,3])\n",
    "v2=np.asarray([7,5,2])\n",
    "sum=v1+v2\n",
    "subtract=v1-v2\n",
    "multi=8*v1\n",
    "value1=3*v1+9*v2\n",
    "value2=7*v1-2*v2\n",
    "\n",
    "\n",
    "mv1=math.sqrt(v1[0]**2+v1[1]**2+v1[2]**2)\n",
    "unitvect=v1/mv1\n",
    "\n",
    "\n",
    "print(sum)\n",
    "print(subtract)\n",
    "print(multi)\n",
    "print(value1)\n",
    "print(value2)\n",
    "print(mv1)\n",
    "print(unitvect)"
   ]
  },
  {
   "cell_type": "code",
   "execution_count": 23,
   "id": "2055157d",
   "metadata": {},
   "outputs": [
    {
     "data": {
      "text/plain": [
       "65"
      ]
     },
     "execution_count": 23,
     "metadata": {},
     "output_type": "execute_result"
    }
   ],
   "source": [
    "np.dot(v1,v2)"
   ]
  },
  {
   "cell_type": "code",
   "execution_count": 24,
   "id": "93173d26",
   "metadata": {},
   "outputs": [
    {
     "data": {
      "text/plain": [
       "array([  3,  17, -53])"
      ]
     },
     "execution_count": 24,
     "metadata": {},
     "output_type": "execute_result"
    }
   ],
   "source": [
    "np.cross(v1,v2)"
   ]
  },
  {
   "cell_type": "markdown",
   "id": "0a8b1bbf",
   "metadata": {},
   "source": [
    "# If underline a = 4i + 7j + 5k , b = 3i + 8j + 5k evaluate\n",
    "(i) a + b\n",
    "(ii)a-b\n",
    "(iii) 9a\n",
    "(iv) 5a + 2b\n",
    "(v)5a-3b\n",
    "(vi) a.b\n",
    "(vii) aXb\n",
    "(viii) | a |\n",
    "(ix) unit vector of a."
   ]
  },
  {
   "cell_type": "code",
   "execution_count": 25,
   "id": "c871f43e",
   "metadata": {},
   "outputs": [
    {
     "name": "stdout",
     "output_type": "stream",
     "text": [
      "[ 7 15 10]\n",
      "[ 1 -1  0]\n",
      "[36 63 45]\n",
      "[26 51 35]\n",
      "[11 11 10]\n",
      "9.486832980505138\n",
      "[0.42163702 0.73786479 0.52704628]\n"
     ]
    }
   ],
   "source": [
    "import numpy as np\n",
    "v1=np.asarray([4,7,5])\n",
    "v2=np.asarray([3,8,5])\n",
    "sum=v1+v2\n",
    "subtract=v1-v2\n",
    "multi=9*v1\n",
    "value1=5*v1+2*v2\n",
    "value2=5*v1-3*v2\n",
    "\n",
    "\n",
    "mv1=math.sqrt(v1[0]**2+v1[1]**2+v1[2]**2)\n",
    "unitvect=v1/mv1\n",
    "\n",
    "\n",
    "print(sum)\n",
    "print(subtract)\n",
    "print(multi)\n",
    "print(value1)\n",
    "print(value2)\n",
    "print(mv1)\n",
    "print(unitvect)"
   ]
  },
  {
   "cell_type": "code",
   "execution_count": 26,
   "id": "be808e7d",
   "metadata": {},
   "outputs": [
    {
     "data": {
      "text/plain": [
       "93"
      ]
     },
     "execution_count": 26,
     "metadata": {},
     "output_type": "execute_result"
    }
   ],
   "source": [
    "np.dot(v1,v2)\n"
   ]
  },
  {
   "cell_type": "code",
   "execution_count": 27,
   "id": "825d1c63",
   "metadata": {},
   "outputs": [
    {
     "data": {
      "text/plain": [
       "array([-5, -5, 11])"
      ]
     },
     "execution_count": 27,
     "metadata": {},
     "output_type": "execute_result"
    }
   ],
   "source": [
    "np.cross(v1,v2)"
   ]
  },
  {
   "cell_type": "code",
   "execution_count": null,
   "id": "dfa0607b",
   "metadata": {},
   "outputs": [],
   "source": []
  }
 ],
 "metadata": {
  "kernelspec": {
   "display_name": "Python 3 (ipykernel)",
   "language": "python",
   "name": "python3"
  },
  "language_info": {
   "codemirror_mode": {
    "name": "ipython",
    "version": 3
   },
   "file_extension": ".py",
   "mimetype": "text/x-python",
   "name": "python",
   "nbconvert_exporter": "python",
   "pygments_lexer": "ipython3",
   "version": "3.9.12"
  }
 },
 "nbformat": 4,
 "nbformat_minor": 5
}
