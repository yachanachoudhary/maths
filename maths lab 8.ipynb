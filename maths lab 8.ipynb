{
 "cells": [
  {
   "cell_type": "markdown",
   "id": "6efa22d8",
   "metadata": {},
   "source": [
    "# if f =(xy^2)i+(2x^2yz)j-(3y^2z)k find the curl  at point(1,2,30"
   ]
  },
  {
   "cell_type": "code",
   "execution_count": 3,
   "id": "9129298c",
   "metadata": {},
   "outputs": [
    {
     "name": "stdout",
     "output_type": "stream",
     "text": [
      "curl of the function is [-2*x**2*y + 6*y*z, 0, 4*x*y*z - 2*x*y]\n",
      "curl of the function at the point (1,2,3)is [32, 0, 20]\n"
     ]
    }
   ],
   "source": [
    "from sympy import*\n",
    "import numpy as np\n",
    "x=Symbol('x')\n",
    "y=Symbol('y')\n",
    "z=Symbol('z')\n",
    "f1=x*y**2\n",
    "f2=2*x**2*y*z\n",
    "f3=3*y**2*z\n",
    "F=np.array([(diff(f3,y)-diff(f2,z)),(diff(f1,z)-diff(f3,x)),(diff(f2,x)-diff(f1,y))])\n",
    "N=F.tolist()\n",
    "print(\"curl of the function is\",N)\n",
    "a=N[0]\n",
    "b=N[1]\n",
    "c=N[2]\n",
    "a=a.subs({x:1,y:2,z:3})\n",
    "b=b.subs({x:1,y:2,z:3})\n",
    "c=c.subs({x:1,y:2,z:3})\n",
    "Grad=np.array([a,b,c])\n",
    "curl=np.array([a,b,c])\n",
    "C=curl.tolist()\n",
    "print(\"curl of the function at the point (1,2,3)is\",C)"
   ]
  },
  {
   "cell_type": "markdown",
   "id": "b217666e",
   "metadata": {},
   "source": [
    "# if f =(x^2y)i+(2xz)j-(2yz)k find the curl at point(-1,3,2)"
   ]
  },
  {
   "cell_type": "code",
   "execution_count": 4,
   "id": "e38e1552",
   "metadata": {},
   "outputs": [
    {
     "name": "stdout",
     "output_type": "stream",
     "text": [
      "curl of the function is [-2*x + 2*y**z*z/y, 0, -x**2 + 2*z]\n",
      "curl of the function at the point (-1,3,2)is [14, 0, 3]\n"
     ]
    }
   ],
   "source": [
    "from sympy import*\n",
    "import numpy as np\n",
    "x=Symbol('x')\n",
    "y=Symbol('y')\n",
    "z=Symbol('z')\n",
    "f1=x**2*y\n",
    "f2=2*x*z\n",
    "f3=2*y**z\n",
    "F=np.array([(diff(f3,y)-diff(f2,z)),(diff(f1,z)-diff(f3,x)),(diff(f2,x)-diff(f1,y))])\n",
    "N=F.tolist()\n",
    "print(\"curl of the function is\",N)\n",
    "a=N[0]\n",
    "b=N[1]\n",
    "c=N[2]\n",
    "a=a.subs({x:-1,y:3,z:2})\n",
    "b=b.subs({x:-1,y:3,z:2})\n",
    "c=c.subs({x:-1,y:3,z:2})\n",
    "Grad=np.array([a,b,c])\n",
    "curl=np.array([a,b,c])\n",
    "C=curl.tolist()\n",
    "print(\"curl of the function at the point (-1,3,2)is\",C)"
   ]
  },
  {
   "cell_type": "markdown",
   "id": "b46ce57a",
   "metadata": {},
   "source": [
    "# if f =(3xy)i+(20yz^2)j-(15xz)k find the curl at point(-2,3,-1)"
   ]
  },
  {
   "cell_type": "code",
   "execution_count": 5,
   "id": "7d699b08",
   "metadata": {},
   "outputs": [
    {
     "name": "stdout",
     "output_type": "stream",
     "text": [
      "curl of the function is [-40*y*z, -15*z, -3*x]\n",
      "curl of the function at the point (-2,3,1)is [120, 15, 6]\n"
     ]
    }
   ],
   "source": [
    "from sympy import*\n",
    "import numpy as np\n",
    "x=Symbol('x')\n",
    "y=Symbol('y')\n",
    "z=Symbol('z')\n",
    "f1=3*x*y\n",
    "f2=20*y*z**2\n",
    "f3=15*x*z\n",
    "F=np.array([(diff(f3,y)-diff(f2,z)),(diff(f1,z)-diff(f3,x)),(diff(f2,x)-diff(f1,y))])\n",
    "N=F.tolist()\n",
    "print(\"curl of the function is\",N)\n",
    "a=N[0]\n",
    "b=N[1]\n",
    "c=N[2]\n",
    "a=a.subs({x:-2,y:3,z:-1})\n",
    "b=b.subs({x:-2,y:3,z:-1})\n",
    "c=c.subs({x:-2,y:3,z:-1})\n",
    "Grad=np.array([a,b,c])\n",
    "curl=np.array([a,b,c])\n",
    "C=curl.tolist()\n",
    "print(\"curl of the function at the point (-2,3,1)is\",C)"
   ]
  },
  {
   "cell_type": "markdown",
   "id": "8983719a",
   "metadata": {},
   "source": [
    "# if f =(x^2y)i+(y^2z)j-(z^2x)k find the curl at point(4,-2,5)"
   ]
  }
 ],
 "metadata": {
  "kernelspec": {
   "display_name": "Python 3 (ipykernel)",
   "language": "python",
   "name": "python3"
  },
  "language_info": {
   "codemirror_mode": {
    "name": "ipython",
    "version": 3
   },
   "file_extension": ".py",
   "mimetype": "text/x-python",
   "name": "python",
   "nbconvert_exporter": "python",
   "pygments_lexer": "ipython3",
   "version": "3.9.12"
  }
 },
 "nbformat": 4,
 "nbformat_minor": 5
}
